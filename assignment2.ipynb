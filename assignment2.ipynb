{
 "cells": [
  {
   "cell_type": "code",
   "execution_count": 2,
   "metadata": {
    "collapsed": false
   },
   "outputs": [],
   "source": [
    "import pandas as pd"
   ]
  },
  {
   "cell_type": "code",
   "execution_count": 15,
   "metadata": {
    "collapsed": true
   },
   "outputs": [],
   "source": [
    "def get_data(percent):\n",
    "    df=pd.read_csv(\"data/train.csv\")\n",
    "    rows=len(df.index)\n",
    "    start_data=0\n",
    "    end_data=int(percent*rows/100)\n",
    "    return df[start_data:end_data]\n",
    "    \n",
    "    \n",
    "def write_data(df):\n",
    "    df.to_csv('../data/predicted.csv')\n",
    "    \n",
    "    "
   ]
  },
  {
   "cell_type": "code",
   "execution_count": 16,
   "metadata": {
    "collapsed": false
   },
   "outputs": [
    {
     "name": "stdout",
     "output_type": "stream",
     "text": [
      "   id  age   workclass  fnlwgt      education  education-num  \\\n",
      "0   0   25     Private  226802           11th              7   \n",
      "1   1   38     Private   89814        HS-grad              9   \n",
      "2   2   28   Local-gov  336951     Assoc-acdm             12   \n",
      "3   3   44     Private  160323   Some-college             10   \n",
      "4   5   34     Private  198693           10th              6   \n",
      "\n",
      "        marital-status          occupation    relationship    race    sex  \\\n",
      "0        Never-married   Machine-op-inspct       Own-child   Black   Male   \n",
      "1   Married-civ-spouse     Farming-fishing         Husband   White   Male   \n",
      "2   Married-civ-spouse     Protective-serv         Husband   White   Male   \n",
      "3   Married-civ-spouse   Machine-op-inspct         Husband   Black   Male   \n",
      "4        Never-married       Other-service   Not-in-family   White   Male   \n",
      "\n",
      "   capital-gain  capital-loss  hours-per-week  native-country  salary  \n",
      "0             0             0              40   United-States       0  \n",
      "1             0             0              50   United-States       0  \n",
      "2             0             0              40   United-States       1  \n",
      "3          7688             0              40   United-States       1  \n",
      "4             0             0              30   United-States       0  \n",
      "3897\n"
     ]
    }
   ],
   "source": [
    "df= get_data(10)\n",
    "print (df.head(5))"
   ]
  },
  {
   "cell_type": "code",
   "execution_count": 14,
   "metadata": {
    "collapsed": false
   },
   "outputs": [
    {
     "name": "stdout",
     "output_type": "stream",
     "text": [
      "38973\n"
     ]
    }
   ],
   "source": [
    "\n"
   ]
  },
  {
   "cell_type": "code",
   "execution_count": null,
   "metadata": {
    "collapsed": true
   },
   "outputs": [],
   "source": []
  }
 ],
 "metadata": {
  "kernelspec": {
   "display_name": "Python 3",
   "language": "python",
   "name": "python3"
  },
  "language_info": {
   "codemirror_mode": {
    "name": "ipython",
    "version": 3
   },
   "file_extension": ".py",
   "mimetype": "text/x-python",
   "name": "python",
   "nbconvert_exporter": "python",
   "pygments_lexer": "ipython3",
   "version": "3.5.2"
  }
 },
 "nbformat": 4,
 "nbformat_minor": 2
}
