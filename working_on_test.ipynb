{
 "cells": [
  {
   "cell_type": "code",
   "execution_count": 1,
   "metadata": {
    "collapsed": false
   },
   "outputs": [],
   "source": [
    "import numpy as np\n",
    "import pandas as pd\n",
    "from pandas import Series,DataFrame\n",
    "\n",
    "\n",
    "#reads the datafiles and returns the training and the testing data\n",
    "def get_data():\n",
    "    # get test & test csv files as a DataFrame\n",
    "    train_df = pd.read_csv(\"data/train.csv\")\n",
    "    test_df    = pd.read_csv(\"data/test.csv\")\n",
    "\n",
    "    #creating dummies of the data\n",
    "    train_df=pd.get_dummies(train_df)\n",
    "    test_df=pd.get_dummies(test_df)\n",
    "\n",
    "    #remove unwanted columns and the columns that are created for ?\n",
    "    columns_to_remove=set(list(train_df)).symmetric_difference(set(list(test_df)))\n",
    "    columns_to_remove.remove('salary')\n",
    "    columns_to_remove.add('race')\n",
    "    columns_to_remove.add('native-country')\n",
    "    for col in list(train_df):\n",
    "        if (col in columns_to_remove) or (\"?\" in col) :\n",
    "            train_df=train_df.drop([col],axis=1)\n",
    "    for col in list(test_df):\n",
    "        if (col in columns_to_remove) or (\"?\" in col) :\n",
    "            test_df=test_df.drop([col],axis=1)\n",
    "    \n",
    "    return train_df,test_df\n",
    "\n",
    "\n",
    "def process_data(percent):\n",
    "    train_df,test_df=get_data()\n",
    "    Y=train_df['salary'].as_matrix()\n",
    "    X=train_df.drop(['salary'], axis=1).as_matrix()\n",
    "    Y=Y.reshape(len(Y),1)\n",
    "    end=int(X.shape[0] * percent)\n",
    "    #training data\n",
    "    train_X=X[:end,:]\n",
    "    train_Y=Y[:end,:]\n",
    "    #data for cross validation\n",
    "    cross_X=X[end:,:]\n",
    "    cross_Y=Y[end:,:]\n",
    "    #testing data\n",
    "    test_X=test_df.as_matrix()\n",
    "    test_ids=test_df['id'].as_matrix()\n",
    "    #replacing ids as bias term\n",
    "    train_X[:0]=1\n",
    "    test_X[:0]=1\n",
    "    \n",
    "    return train_X,train_Y,cross_X,cross_Y,test_X,test_ids\n",
    "\n",
    "\n",
    "\n",
    "\n",
    "# using softmax as output layer is recommended for classification where outputs are mutually exclusive\n",
    "def softmax(w):\n",
    "    e = np.exp(w - np.amax(w))\n",
    "    dist = e / np.sum(e)\n",
    "    return dist\n",
    "\n",
    "# using tanh over logistic sigmoid for the hidden layer is recommended   \n",
    "def tanh(x):\n",
    "    return np.tanh(x)\n",
    "    \n",
    "# derivative for tanh sigmoid\n",
    "def dtanh(y):\n",
    "    return 1 - y*y\n",
    "\n",
    "\n",
    "#sigmoid funciton\n",
    "def sigmoid(x):\n",
    "    return 1/(1+np.exp(-x))\n",
    "\n",
    "#differntial sigmoid\n",
    "def dsigmoid(x):\n",
    "    return x*(1-x)\n",
    "\n",
    "#Neural Network implementation\n",
    "def nn(X_train,Y_train,neurons,learning_rate):\n",
    "    np.random.seed(1) #random number\n",
    "    w0=np.random.random((X_train.shape[1],neurons))-1\n",
    "    w1=np.random.random((neurons,1))-1\n",
    "    alpha=1\n",
    "    for j in range(5000):\n",
    "        #forward prop\n",
    "        l0=X_train\n",
    "        l1=sigmoid(np.dot(l0,w0))\n",
    "        l2=sigmoid(np.dot(l1,w1))\n",
    "        l2_error=Y_train-l2\n",
    "        l2_delta=l2_error*dsigmoid(l2)\n",
    "        l1_error=np.dot(l2_delta,w1.T)\n",
    "        l1_delta=l1_error*dsigmoid(l1)\n",
    "        w1+=alpha*(np.dot(l1.T,l2_delta))\n",
    "        w0+=alpha*(np.dot(l0.T,l1_delta))\n",
    "    \n",
    "    return w0,w1\n",
    "\n",
    "def predict(X_test,w0,w1):\n",
    "    hidden_layer=sigmoid(np.dot(X_test,w0))\n",
    "    Y_test=sigmoid(np.dot(hidden_layer,w1))\n",
    "\n",
    "    return Y_test\n",
    "\n",
    "#writes the predicted values to file \n",
    "def write_result(ids,predicted,file_name):\n",
    "    output=np.column_stack((ids,predicted))\n",
    "    np.savetxt(file_name,output,delimiter=\",\",fmt=\"%d,%d\",header=\"id,salary\",comments ='')\n"
   ]
  },
  {
   "cell_type": "code",
   "execution_count": null,
   "metadata": {
    "collapsed": false
   },
   "outputs": [],
   "source": [
    "train_X,train_Y,cross_X,cross_Y,test_X,test_ids= process_data(0.115)\n",
    "w0,w1=nn(train_X,train_Y,100,1)\n",
    "\n"
   ]
  },
  {
   "cell_type": "code",
   "execution_count": null,
   "metadata": {
    "collapsed": false
   },
   "outputs": [],
   "source": [
    "predicted=predict(test_X,w0,w1)"
   ]
  },
  {
   "cell_type": "code",
   "execution_count": 28,
   "metadata": {
    "collapsed": false
   },
   "outputs": [
    {
     "name": "stdout",
     "output_type": "stream",
     "text": [
      "[[ 0.]\n",
      " [ 0.]\n",
      " [ 0.]\n",
      " [ 0.]\n",
      " [ 0.]]\n"
     ]
    }
   ],
   "source": [
    "\n",
    "predicted[predicted>0.5]=1\n",
    "predicted[predicted<=0.5]=0\n",
    "print(predicted[:5,:])"
   ]
  },
  {
   "cell_type": "code",
   "execution_count": 34,
   "metadata": {
    "collapsed": false
   },
   "outputs": [
    {
     "name": "stdout",
     "output_type": "stream",
     "text": [
      "6878\n"
     ]
    }
   ],
   "source": [
    "print(np.count_nonzero(predicted))"
   ]
  },
  {
   "cell_type": "code",
   "execution_count": 3,
   "metadata": {
    "collapsed": false
   },
   "outputs": [
    {
     "name": "stdout",
     "output_type": "stream",
     "text": [
      "(38973, 15) (38973,)\n",
      "[[-0.92802572 -0.03272367 -0.43189954 -0.79670677 -0.74767426 -0.25617415\n",
      "  -0.80457052 -0.41864107 -0.02998001 -0.1531712 ]]\n",
      "(6878, 1)\n"
     ]
    }
   ],
   "source": [
    "print(test_ids.shape,predicted.shape)\n",
    "write_result(test_ids,predicted,\"10neurons\")"
   ]
  },
  {
   "cell_type": "code",
   "execution_count": 35,
   "metadata": {
    "collapsed": false
   },
   "outputs": [],
   "source": [
    "np.savetxt('checking',predicted,delimiter=\",\",fmt=\"%f\",header=\"salary\",comments ='')\n",
    "\n"
   ]
  },
  {
   "cell_type": "code",
   "execution_count": 9,
   "metadata": {
    "collapsed": false
   },
   "outputs": [
    {
     "data": {
      "text/plain": [
       "0    0\n",
       "1    1\n",
       "2    2\n",
       "3    3\n",
       "Name: id, dtype: int64"
      ]
     },
     "execution_count": 9,
     "metadata": {},
     "output_type": "execute_result"
    }
   ],
   "source": []
  },
  {
   "cell_type": "code",
   "execution_count": 36,
   "metadata": {
    "collapsed": false
   },
   "outputs": [
    {
     "name": "stdout",
     "output_type": "stream",
     "text": [
      "(4, 3) (4, 1)\n",
      "predicting\n",
      "[[ 0.00431016]\n",
      " [ 0.99467133]\n",
      " [ 0.00934583]\n",
      " [ 0.99012167]]\n"
     ]
    }
   ],
   "source": [
    "X= np.array([ [0,0,1],\n",
    "              [0,1,1],\n",
    "              [1,0,1],\n",
    "              [1,1,1], ])\n",
    "\n",
    "Y=np.array([ [ 0,1,0,1 ] ]).T\n",
    "print(X.shape,Y.shape)\n",
    "w0,w1=nn(X,Y,100,1)\n",
    "predicted=predict(X,w0,w1)\n",
    "print(predicted)\n"
   ]
  },
  {
   "cell_type": "code",
   "execution_count": 7,
   "metadata": {
    "collapsed": false
   },
   "outputs": [
    {
     "name": "stdout",
     "output_type": "stream",
     "text": [
      "[[-0.34389533  1.69680924  0.48157856 -0.14194807  0.2734018   0.50042163\n",
      "  -0.24033495  0.68571935  1.47872693  1.94862908 -0.19434768  0.3056804\n",
      "   1.04407801  1.52870164 -0.43859884  0.10100418  0.11646271  0.9265588\n",
      "   0.94821002  0.2628298   0.27657514  0.92647246  0.10721155  0.42481585\n",
      "   1.15574883  0.9852561   0.84884338  0.13334203 -0.29088181  0.49790059\n",
      "   0.79245257  0.47721154  1.63659464 -0.35730444  0.37394008  0.89385101\n",
      "   0.35819129  1.2520115   0.67314849  1.90370291  0.29206175 -0.00753055\n",
      "   0.40386074  0.83959593  0.5159915   0.65617943  0.02774922  0.22203849\n",
      "   0.36847031  0.6532641 ]]\n",
      "[[ 0.99999593]\n",
      " [ 0.99997299]\n",
      " [ 0.99996986]\n",
      " [ 0.99986455]]\n",
      "[[-0.34389533  1.69680924  0.48157856 -0.14194807  0.2734018   0.50042163\n",
      "  -0.24033495  0.68571935  1.47872693  1.94862908 -0.19434768  0.3056804\n",
      "   1.04407801  1.52870164 -0.43859884  0.10100418  0.11646271  0.9265588\n",
      "   0.94821002  0.2628298   0.27657514  0.92647246  0.10721155  0.42481585\n",
      "   1.15574883  0.9852561   0.84884338  0.13334203 -0.29088181  0.49790059\n",
      "   0.79245257  0.47721154  1.63659464 -0.35730444  0.37394008  0.89385101\n",
      "   0.35819129  1.2520115   0.67314849  1.90370291  0.29206175 -0.00753055\n",
      "   0.40386074  0.83959593  0.5159915   0.65617943  0.02774922  0.22203849\n",
      "   0.36847031  0.6532641 ]]\n",
      "[[ 0.99999593]\n",
      " [ 0.99997299]\n",
      " [ 0.99996986]\n",
      " [ 0.99986455]]\n",
      "[[-0.34389533  1.69680924  0.48157856 -0.14194807  0.2734018   0.50042163\n",
      "  -0.24033495  0.68571935  1.47872693  1.94862908 -0.19434768  0.3056804\n",
      "   1.04407801  1.52870164 -0.43859884  0.10100418  0.11646271  0.9265588\n",
      "   0.94821002  0.2628298   0.27657514  0.92647246  0.10721155  0.42481585\n",
      "   1.15574883  0.9852561   0.84884338  0.13334203 -0.29088181  0.49790059\n",
      "   0.79245257  0.47721154  1.63659464 -0.35730444  0.37394008  0.89385101\n",
      "   0.35819129  1.2520115   0.67314849  1.90370291  0.29206175 -0.00753055\n",
      "   0.40386074  0.83959593  0.5159915   0.65617943  0.02774922  0.22203849\n",
      "   0.36847031  0.6532641 ]]\n",
      "[[ 0.99999593]\n",
      " [ 0.99997299]\n",
      " [ 0.99996986]\n",
      " [ 0.99986455]]\n"
     ]
    }
   ],
   "source": [
    "predicted=nn(X,Y,X,50,1)\n",
    "print(predicted)\n",
    "predicted=nn(X,Y,X,50,0.1)\n",
    "print(predicted)\n",
    "predicted=nn(X,Y,X,50,0.01)\n",
    "print(predicted)"
   ]
  },
  {
   "cell_type": "code",
   "execution_count": 8,
   "metadata": {
    "collapsed": false
   },
   "outputs": [
    {
     "name": "stdout",
     "output_type": "stream",
     "text": [
      "[[-1.37107119  2.6894496  -0.5949312   1.17090215 -0.94650185 -0.88984271\n",
      "  -0.6618885   0.10529835 -1.72403777  1.76452551]]\n",
      "[[ 0.5041566 ]\n",
      " [ 0.95311554]\n",
      " [ 0.95238837]\n",
      " [ 0.98957434]]\n",
      "[[-1.37107119  2.6894496  -0.5949312   1.17090215 -0.94650185 -0.88984271\n",
      "  -0.6618885   0.10529835 -1.72403777  1.76452551]]\n",
      "[[ 0.5041566 ]\n",
      " [ 0.95311554]\n",
      " [ 0.95238837]\n",
      " [ 0.98957434]]\n",
      "[[-1.37107119  2.6894496  -0.5949312   1.17090215 -0.94650185 -0.88984271\n",
      "  -0.6618885   0.10529835 -1.72403777  1.76452551]]\n",
      "[[ 0.5041566 ]\n",
      " [ 0.95311554]\n",
      " [ 0.95238837]\n",
      " [ 0.98957434]]\n"
     ]
    }
   ],
   "source": [
    "predicted=nn(X,Y,X,10,1)\n",
    "print(predicted)\n",
    "predicted=nn(X,Y,X,10,0.1)\n",
    "print(predicted)\n",
    "predicted=nn(X,Y,X,10,0.01)\n",
    "print(predicted)"
   ]
  },
  {
   "cell_type": "code",
   "execution_count": 33,
   "metadata": {
    "collapsed": false
   },
   "outputs": [
    {
     "name": "stdout",
     "output_type": "stream",
     "text": [
      "[[-0.1877674  -0.12463105 -0.31118023 -0.43023434 -0.8387227  -0.53287079\n",
      "  -0.65465191 -0.77454642 -0.40701164 -0.68708662 -0.08348778 -0.08996284\n",
      "  -0.74260828 -0.88873277 -0.80693394 -0.49996737 -0.27116707 -0.79117226\n",
      "  -0.75159699 -0.14821368 -0.58394273 -0.3830378  -0.76620407 -0.89764275\n",
      "  -0.48364284 -0.52224814 -0.84707527 -0.37780014 -0.4557538  -0.34536896\n",
      "  -0.85521737 -0.24802188 -0.77736216 -0.48046715 -0.21423818 -0.97743172\n",
      "  -0.67531522 -0.12666656 -0.15501587 -0.46097568 -0.13296656 -0.04979487\n",
      "  -0.17339843 -0.14565734 -0.90105901 -0.34845366 -0.29623666 -0.38945791\n",
      "  -0.20005772 -0.96520811 -0.22967045 -0.26755791 -0.74006198 -0.74262543\n",
      "  -0.36741437 -0.65434829 -0.20313002 -0.55356971 -0.21683042 -0.00900907\n",
      "  -0.69952495 -0.85659868 -0.09819548 -0.45798894 -0.02503698 -0.36320803\n",
      "  -0.0057911  -0.45362154 -0.47312512 -0.86423448 -0.64394163 -0.97347605\n",
      "  -0.83932439 -0.25401082 -0.96915495 -0.63311315 -0.13724919 -0.30710578\n",
      "  -0.3088173  -0.81092727 -0.55747709 -0.41803566 -0.009717   -0.79593597\n",
      "  -0.75209482 -0.73714184 -0.24958935 -0.54240065 -0.94267679 -0.49090975\n",
      "  -0.78784894 -0.20099391 -0.70227689 -0.97198299 -0.406204   -0.1559027\n",
      "  -0.61871398 -0.24995237 -0.48851085 -0.45865831]]\n",
      "[[  3.95783922e-09]\n",
      " [  6.72587548e-07]\n",
      " [  1.24072677e-06]\n",
      " [  6.66006125e-05]]\n",
      "[[-0.1877674  -0.12463105 -0.31118023 -0.43023434 -0.8387227  -0.53287079\n",
      "  -0.65465191 -0.77454642 -0.40701164 -0.68708662 -0.08348778 -0.08996284\n",
      "  -0.74260828 -0.88873277 -0.80693394 -0.49996737 -0.27116707 -0.79117226\n",
      "  -0.75159699 -0.14821368 -0.58394273 -0.3830378  -0.76620407 -0.89764275\n",
      "  -0.48364284 -0.52224814 -0.84707527 -0.37780014 -0.4557538  -0.34536896\n",
      "  -0.85521737 -0.24802188 -0.77736216 -0.48046715 -0.21423818 -0.97743172\n",
      "  -0.67531522 -0.12666656 -0.15501587 -0.46097568 -0.13296656 -0.04979487\n",
      "  -0.17339843 -0.14565734 -0.90105901 -0.34845366 -0.29623666 -0.38945791\n",
      "  -0.20005772 -0.96520811 -0.22967045 -0.26755791 -0.74006198 -0.74262543\n",
      "  -0.36741437 -0.65434829 -0.20313002 -0.55356971 -0.21683042 -0.00900907\n",
      "  -0.69952495 -0.85659868 -0.09819548 -0.45798894 -0.02503698 -0.36320803\n",
      "  -0.0057911  -0.45362154 -0.47312512 -0.86423448 -0.64394163 -0.97347605\n",
      "  -0.83932439 -0.25401082 -0.96915495 -0.63311315 -0.13724919 -0.30710578\n",
      "  -0.3088173  -0.81092727 -0.55747709 -0.41803566 -0.009717   -0.79593597\n",
      "  -0.75209482 -0.73714184 -0.24958935 -0.54240065 -0.94267679 -0.49090975\n",
      "  -0.78784894 -0.20099391 -0.70227689 -0.97198299 -0.406204   -0.1559027\n",
      "  -0.61871398 -0.24995237 -0.48851085 -0.45865831]]\n",
      "[[  3.95783922e-09]\n",
      " [  6.72587548e-07]\n",
      " [  1.24072677e-06]\n",
      " [  6.66006125e-05]]\n",
      "[[-0.1877674  -0.12463105 -0.31118023 -0.43023434 -0.8387227  -0.53287079\n",
      "  -0.65465191 -0.77454642 -0.40701164 -0.68708662 -0.08348778 -0.08996284\n",
      "  -0.74260828 -0.88873277 -0.80693394 -0.49996737 -0.27116707 -0.79117226\n",
      "  -0.75159699 -0.14821368 -0.58394273 -0.3830378  -0.76620407 -0.89764275\n",
      "  -0.48364284 -0.52224814 -0.84707527 -0.37780014 -0.4557538  -0.34536896\n",
      "  -0.85521737 -0.24802188 -0.77736216 -0.48046715 -0.21423818 -0.97743172\n",
      "  -0.67531522 -0.12666656 -0.15501587 -0.46097568 -0.13296656 -0.04979487\n",
      "  -0.17339843 -0.14565734 -0.90105901 -0.34845366 -0.29623666 -0.38945791\n",
      "  -0.20005772 -0.96520811 -0.22967045 -0.26755791 -0.74006198 -0.74262543\n",
      "  -0.36741437 -0.65434829 -0.20313002 -0.55356971 -0.21683042 -0.00900907\n",
      "  -0.69952495 -0.85659868 -0.09819548 -0.45798894 -0.02503698 -0.36320803\n",
      "  -0.0057911  -0.45362154 -0.47312512 -0.86423448 -0.64394163 -0.97347605\n",
      "  -0.83932439 -0.25401082 -0.96915495 -0.63311315 -0.13724919 -0.30710578\n",
      "  -0.3088173  -0.81092727 -0.55747709 -0.41803566 -0.009717   -0.79593597\n",
      "  -0.75209482 -0.73714184 -0.24958935 -0.54240065 -0.94267679 -0.49090975\n",
      "  -0.78784894 -0.20099391 -0.70227689 -0.97198299 -0.406204   -0.1559027\n",
      "  -0.61871398 -0.24995237 -0.48851085 -0.45865831]]\n",
      "[[  3.95783922e-09]\n",
      " [  6.72587548e-07]\n",
      " [  1.24072677e-06]\n",
      " [  6.66006125e-05]]\n"
     ]
    }
   ],
   "source": [
    "predicted=nn(X,Y,X,100,1)\n",
    "print(predicted)\n",
    "predicted=nn(X,Y,X,100,0.1)\n",
    "print(predicted)\n",
    "predicted=nn(X,Y,X,100,0.01)\n",
    "print(predicted)"
   ]
  },
  {
   "cell_type": "code",
   "execution_count": null,
   "metadata": {
    "collapsed": true
   },
   "outputs": [],
   "source": []
  }
 ],
 "metadata": {
  "anaconda-cloud": {},
  "kernelspec": {
   "display_name": "Python [default]",
   "language": "python",
   "name": "python3"
  },
  "language_info": {
   "codemirror_mode": {
    "name": "ipython",
    "version": 3
   },
   "file_extension": ".py",
   "mimetype": "text/x-python",
   "name": "python",
   "nbconvert_exporter": "python",
   "pygments_lexer": "ipython3",
   "version": "3.5.2"
  }
 },
 "nbformat": 4,
 "nbformat_minor": 1
}
